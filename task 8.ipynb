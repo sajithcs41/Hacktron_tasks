{
 "cells": [
  {
   "cell_type": "markdown",
   "id": "db7bceb3",
   "metadata": {},
   "source": [
    "binomial-distribution-1"
   ]
  },
  {
   "cell_type": "code",
   "execution_count": 3,
   "id": "f7b6d892",
   "metadata": {},
   "outputs": [
    {
     "name": "stdout",
     "output_type": "stream",
     "text": [
      "1.09 1\n",
      "0.696\n"
     ]
    }
   ],
   "source": [
    "m, f = [float(x) for x in input().split()]\n",
    "\n",
    "def factorial(n):\n",
    "    return 1 if n < 2 else n * factorial(n-1)\n",
    "\n",
    "def n_choose_k(n, k):\n",
    "    return factorial(n)/(factorial(k) * factorial(n-k))\n",
    "\n",
    "def odds(target, other):\n",
    "    m = target/(target+other)\n",
    "    f = other/(target+other)\n",
    "    return m, f\n",
    "\n",
    "def at_least_k(n, k):\n",
    "    total_odds = 0\n",
    "    while k <= n:\n",
    "        combos = n_choose_k(n, k)\n",
    "        total_odds += combos*odds(m,f)[0]**k*odds(m,f)[1]**(n-k) \n",
    "        k += 1\n",
    "    return total_odds\n",
    "\n",
    "answer = at_least_k(6,3)\n",
    "\n",
    "print('{:0.3f}'.format(answer))"
   ]
  },
  {
   "cell_type": "markdown",
   "id": "df67a8ea",
   "metadata": {},
   "source": [
    "binomial-distribution-2"
   ]
  },
  {
   "cell_type": "code",
   "execution_count": 2,
   "id": "8323e4bd",
   "metadata": {},
   "outputs": [
    {
     "name": "stdout",
     "output_type": "stream",
     "text": [
      "12 10\n",
      "0.891\n",
      "0.342\n"
     ]
    }
   ],
   "source": [
    "def fact(t):\n",
    "    if(t==1 or t==0):\n",
    "        return 1\n",
    "    else:\n",
    "        return t*fact(t-1)\n",
    "\n",
    "a,b=map(int,input().split())\n",
    "p=a/100\n",
    "q=1-p\n",
    "x=2\n",
    "ans,bns=0,0\n",
    "for i in range(x+1):\n",
    "    ans+=(fact(b)/(fact(i)*fact(b-i)))*(p**i)*(q**(b-i))\n",
    "print(round(ans,3))\n",
    "for j in range(x,b+1):\n",
    "    bns+=(fact(b)/(fact(j)*fact(b-j)))*(p**j)*(q**(b-j))\n",
    "print(round(bns,3))"
   ]
  },
  {
   "cell_type": "markdown",
   "id": "c2e9f2a0",
   "metadata": {},
   "source": [
    "normal-distribution-1"
   ]
  },
  {
   "cell_type": "code",
   "execution_count": 7,
   "id": "227b48c5",
   "metadata": {},
   "outputs": [
    {
     "name": "stdout",
     "output_type": "stream",
     "text": [
      "20 2\n",
      "19.5\n",
      "20 22\n",
      "0.401\n",
      "0.341\n"
     ]
    }
   ],
   "source": [
    "import math\n",
    "\n",
    "def cdf(mean, std, x):\n",
    "    return  0.5 * (1 + math.erf((x - mean) / (std * (2 ** 0.5))))\n",
    "\n",
    "if __name__ == \"__main__\":\n",
    "    mean, std = list(map(float, input().split(' ')))\n",
    "    q1 = float(input().strip())\n",
    "    q2_l, q2_u = list(map(float, input().split(' ')))\n",
    "    \n",
    "    print(\"%.3f\" % cdf(mean, std, q1))\n",
    "    print(\"%.3f\" % (cdf(mean, std, q2_u) - cdf(mean, std, q2_l)))"
   ]
  },
  {
   "cell_type": "markdown",
   "id": "b948777a",
   "metadata": {},
   "source": [
    "normal-distribution-2"
   ]
  },
  {
   "cell_type": "code",
   "execution_count": 6,
   "id": "d6c8f317",
   "metadata": {},
   "outputs": [
    {
     "name": "stdout",
     "output_type": "stream",
     "text": [
      "70 10\n",
      "80\n",
      "60\n",
      "15.87\n",
      "84.13\n",
      "15.87\n"
     ]
    }
   ],
   "source": [
    "import math\n",
    "\n",
    "u,s = map(float, input().split())\n",
    "a = float(input())\n",
    "b = float(input())\n",
    "\n",
    "def cdf(x, u, s):\n",
    "    prob = 0.5*(1+math.erf((x-u)/(s*math.sqrt(2))))\n",
    "    return prob*100\n",
    "               \n",
    "print(format(100-cdf(a,u,s), '.2f'))\n",
    "print(format(100-cdf(b,u,s), '.2f'))\n",
    "print(format(cdf(b,u,s), '.2f'))"
   ]
  },
  {
   "cell_type": "markdown",
   "id": "5de3a34b",
   "metadata": {},
   "source": [
    "the-central-limit-theorem-1"
   ]
  },
  {
   "cell_type": "code",
   "execution_count": null,
   "id": "7cc3fe64",
   "metadata": {},
   "outputs": [],
   "source": [
    "import math\n",
    "maximum_weight = int(input())\n",
    "number_of_box = int(input())\n",
    "mean = int(input())\n",
    "std = int(input())\n",
    "total_mean = mean * number_of_box\n",
    "cdf = (1 + math.erf((maximum_weight - total_mean) / (std*math.sqrt(2)*math.sqrt(number_of_box)))) * 0.5\n",
    "print(round(cdf,4))"
   ]
  },
  {
   "cell_type": "markdown",
   "id": "494ddeb3",
   "metadata": {},
   "source": [
    "the-central-limit-theorem-2"
   ]
  },
  {
   "cell_type": "code",
   "execution_count": null,
   "id": "0729e086",
   "metadata": {},
   "outputs": [],
   "source": [
    "from math import sqrt, erf\n",
    "\n",
    "def normal_cumulative(x, mean, std):\n",
    "    return 0.5 + 0.5 * erf( (x-mean)/(std*sqrt(2)))\n",
    "\n",
    "num_tickets = int(input())\n",
    "num_students = int(input())\n",
    "mean = float(input())\n",
    "std = float(input())\n",
    "\n",
    "mean_ = num_students * mean\n",
    "std_ = sqrt(num_students) * std\n",
    "\n",
    "prob = normal_cumulative(num_tickets, mean_, std_)\n",
    "print(f\"{prob:.4f}\")"
   ]
  },
  {
   "cell_type": "markdown",
   "id": "a8a2aeed",
   "metadata": {},
   "source": [
    "the-central-limit-theorem-3"
   ]
  },
  {
   "cell_type": "code",
   "execution_count": null,
   "id": "49655b0a",
   "metadata": {},
   "outputs": [],
   "source": [
    "n = int(input())\n",
    "[miu, stdev] = [float(input()) for _ in range(2)]  \n",
    "[prob, z] = [float(input()) for _ in range(2)] \n",
    "# population mean ~ N(miu, stdev)\n",
    "# sample mean ~ N(miu, s), where s = sample stdev = stdev/n**0.5\n",
    "s = stdev/n**0.5\n",
    "# lower limit\n",
    "print('%.2f' %(miu - z*s))\n",
    "# upper limit\n",
    "print('%.2f' %(miu + z*s))"
   ]
  },
  {
   "cell_type": "markdown",
   "id": "fb146d3d",
   "metadata": {},
   "source": [
    "pearson-correlation-coefficient"
   ]
  },
  {
   "cell_type": "code",
   "execution_count": null,
   "id": "4f260f37",
   "metadata": {},
   "outputs": [],
   "source": [
    "n = int(input())\n",
    "x = list(map(float, input().split()[:n]))\n",
    "y = list(map(float, input().split()[:n]))\n",
    "\n",
    "mu = lambda arr: sum(arr)/len(arr)\n",
    "mu_diff = lambda arr: list(map(lambda i: i - mu(arr), arr))\n",
    "std = lambda arr: (sum(list(map(lambda i: i**2, mu_diff(arr))))/ len(arr))**.5\n",
    "P_corr = lambda m, n: sum(list(map(lambda i, j: i*j , mu_diff(m), mu_diff(n))))/ (len(m)*std(m)*std(n))\n",
    "\n",
    "print(round(P_corr(x, y), 3))"
   ]
  },
  {
   "cell_type": "markdown",
   "id": "74af35fb",
   "metadata": {},
   "source": [
    "least-square-regression-line\n"
   ]
  },
  {
   "cell_type": "code",
   "execution_count": null,
   "id": "3128c1a2",
   "metadata": {},
   "outputs": [],
   "source": [
    "n=5\n",
    "x=[95,85,80,70,60]\n",
    "y=[85,95,70,65,70]\n",
    "sxy=0\n",
    "sx=0\n",
    "sy=0\n",
    "xi=0\n",
    "for i in range(n):\n",
    "    sxy+=(x[i]*y[i])\n",
    "    sx+=x[i]\n",
    "    sy+=y[i]\n",
    "    xi+=(x[i])**2\n",
    "mux=sx/n\n",
    "muy=sy/n\n",
    "b=(n*sxy -  sx*sy)/(n * xi  -  sx**2 )\n",
    "a=muy-  b*mux\n",
    "\n",
    "yp=a +  b*80\n",
    "print(round(yp,3))"
   ]
  },
  {
   "cell_type": "markdown",
   "id": "306cc542",
   "metadata": {},
   "source": [
    "multiple-linear-regression"
   ]
  },
  {
   "cell_type": "code",
   "execution_count": null,
   "id": "5723d800",
   "metadata": {},
   "outputs": [],
   "source": [
    "import numpy as np\n",
    "m,n=list(map(int,input().split()))\n",
    "x=np.ones((n,m+1))\n",
    "y=np.zeros((n,1))\n",
    "for i in range(n):\n",
    "    obs=np.array(list(map(float,input().split())))\n",
    "    for j in range(m):\n",
    "        x[i,j+1]=obs[j]\n",
    "    y[i,0]=obs[m]\n",
    "q=int(input())\n",
    "xtest=np.ones((q,m+1))\n",
    "for i in range(q):\n",
    "    test=np.array(list(map(float,input().split())))\n",
    "    for j in range(m):\n",
    "        xtest[i,j+1]=test[j]\n",
    "\n",
    "xtx=(x.T).dot(x)\n",
    "xtxinv=np.linalg.inv(xtx)\n",
    "xtxinvxt=xtxinv.dot(x.T)\n",
    "b=xtxinvxt.dot(y)\n",
    "\n",
    "for k in range(q):\n",
    "    print(float(xtest[k].dot(b)))"
   ]
  }
 ],
 "metadata": {
  "kernelspec": {
   "display_name": "Python 3 (ipykernel)",
   "language": "python",
   "name": "python3"
  },
  "language_info": {
   "codemirror_mode": {
    "name": "ipython",
    "version": 3
   },
   "file_extension": ".py",
   "mimetype": "text/x-python",
   "name": "python",
   "nbconvert_exporter": "python",
   "pygments_lexer": "ipython3",
   "version": "3.9.7"
  }
 },
 "nbformat": 4,
 "nbformat_minor": 5
}
