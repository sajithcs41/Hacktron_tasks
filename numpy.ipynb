{
 "cells": [
  {
   "cell_type": "markdown",
   "id": "4be279bd",
   "metadata": {},
   "source": [
    "Arrays"
   ]
  },
  {
   "cell_type": "code",
   "execution_count": null,
   "id": "2f4b7733",
   "metadata": {},
   "outputs": [],
   "source": [
    "import numpy\n",
    "\n",
    "def arrays(arr):\n",
    "    np_arr = numpy.array(arr,float)\n",
    "    return np_arr[::-1]\n",
    "arr = input().strip().split(' ')\n",
    "result = arrays(arr)\n",
    "print(result)"
   ]
  },
  {
   "cell_type": "markdown",
   "id": "aac73bcb",
   "metadata": {},
   "source": [
    "Shape and Reshape"
   ]
  },
  {
   "cell_type": "code",
   "execution_count": null,
   "id": "068a0122",
   "metadata": {},
   "outputs": [],
   "source": [
    "import numpy\n",
    "ar = list(map(int,input().split()))\n",
    "np_ar = numpy.array(ar)\n",
    "print(numpy.reshape(np_ar,(3,3)))"
   ]
  },
  {
   "cell_type": "markdown",
   "id": "c29bf5e3",
   "metadata": {},
   "source": [
    "Transpose and Flatten"
   ]
  },
  {
   "cell_type": "code",
   "execution_count": null,
   "id": "067edce9",
   "metadata": {},
   "outputs": [],
   "source": [
    "import numpy\n",
    "n,m = map(int,input().split())\n",
    "ar = []\n",
    "for i in range(n):\n",
    "    row = list(map(int,input().split()))\n",
    "    ar.append(row)\n",
    "\n",
    "np_ar = numpy.array(ar)\n",
    "print(numpy.transpose(np_ar))\n",
    "print(np_ar.flatten())"
   ]
  },
  {
   "cell_type": "markdown",
   "id": "ab5eed61",
   "metadata": {},
   "source": [
    "Concatenate"
   ]
  },
  {
   "cell_type": "code",
   "execution_count": null,
   "id": "cf052540",
   "metadata": {},
   "outputs": [],
   "source": [
    "import numpy\n",
    "n,m,p=map(int,input().split())\n",
    "\n",
    "ar1 = []\n",
    "ar2 = []\n",
    "for i in range(n):\n",
    "    tmp = list(map(int,input().split()))\n",
    "    ar1.append(tmp)\n",
    "for i in range(m):\n",
    "    tmp = list(map(int,input().split()))\n",
    "    ar2.append(tmp)    \n",
    "np_ar1 = numpy.array(ar1)\n",
    "np_ar2 = numpy.array(ar2)\n",
    "print(numpy.concatenate((np_ar1,np_ar2),axis = 0))"
   ]
  },
  {
   "cell_type": "markdown",
   "id": "3dc6ae77",
   "metadata": {},
   "source": [
    "Zeros and Ones"
   ]
  },
  {
   "cell_type": "code",
   "execution_count": null,
   "id": "65af2fd5",
   "metadata": {},
   "outputs": [],
   "source": [
    "import numpy\n",
    "n_ar = list(map(int,input().split()))\n",
    "n = tuple(n_ar)\n",
    "print(numpy.zeros(n,dtype=numpy.int))\n",
    "print(numpy.ones(n,dtype=numpy.int))"
   ]
  },
  {
   "cell_type": "markdown",
   "id": "a83f3ab8",
   "metadata": {},
   "source": [
    "Eye and Identity"
   ]
  },
  {
   "cell_type": "code",
   "execution_count": null,
   "id": "ae233071",
   "metadata": {},
   "outputs": [],
   "source": [
    "import numpy as np\n",
    "np.set_printoptions(legacy='1.13')\n",
    "n, m = map(int, input().split())\n",
    "print(np.eye(n, m, k=0))\n"
   ]
  },
  {
   "cell_type": "markdown",
   "id": "a8471603",
   "metadata": {},
   "source": [
    "Array Mathematics"
   ]
  },
  {
   "cell_type": "code",
   "execution_count": null,
   "id": "750d32c8",
   "metadata": {},
   "outputs": [],
   "source": [
    "import numpy\n",
    "n,m = map(int,input().split())\n",
    "ar1 = []\n",
    "ar2 = []\n",
    "for i in range(n):\n",
    "    tmp = list(map(int,input().split()))\n",
    "    ar1.append(tmp)\n",
    "for i in range(n):\n",
    "    tmp = list(map(int,input().split()))\n",
    "    ar2.append(tmp)\n",
    "np_ar1 = numpy.array(ar1)\n",
    "np_ar2 = numpy.array(ar2)\n",
    "print(np_ar1 + np_ar2)\n",
    "print(np_ar1 - np_ar2)\n",
    "print(np_ar1 * np_ar2)\n",
    "print(np_ar1 // np_ar2)\n",
    "print(np_ar1 % np_ar2)\n",
    "print(np_ar1 ** np_ar2)"
   ]
  },
  {
   "cell_type": "markdown",
   "id": "8e4107f9",
   "metadata": {},
   "source": [
    "Floor, Ceil and Rint"
   ]
  },
  {
   "cell_type": "code",
   "execution_count": null,
   "id": "15cd06c3",
   "metadata": {},
   "outputs": [],
   "source": [
    "import numpy as np\n",
    "np.set_printoptions(legacy='1.13')\n",
    "A = np.array(input().split(), float)\n",
    "print(np.floor(A))\n",
    "print(np.ceil(A))\n",
    "print(np.rint(A))"
   ]
  },
  {
   "cell_type": "markdown",
   "id": "a19fc58e",
   "metadata": {},
   "source": [
    "Sum and Prod"
   ]
  },
  {
   "cell_type": "code",
   "execution_count": null,
   "id": "2cf8c228",
   "metadata": {},
   "outputs": [],
   "source": [
    "import numpy\n",
    "n,m=map(int,input().split())\n",
    "ar = []\n",
    "for i in range(n):\n",
    "    tmp = list(map(int,input().split()))\n",
    "    ar.append(tmp)\n",
    "np_ar = numpy.array(ar)\n",
    "s = numpy.sum(np_ar,axis=0)\n",
    "print(numpy.prod(s))"
   ]
  },
  {
   "cell_type": "markdown",
   "id": "d47b0fb1",
   "metadata": {},
   "source": [
    "Min and Max"
   ]
  },
  {
   "cell_type": "code",
   "execution_count": null,
   "id": "dd789532",
   "metadata": {},
   "outputs": [],
   "source": [
    "import numpy\n",
    "n,m = map(int,input().split())\n",
    "ar = []\n",
    "for i in range(n):\n",
    "    tmp = list(map(int,input().split()))\n",
    "    ar.append(tmp)\n",
    "np_ar = numpy.array(ar)\n",
    "print(numpy.max(numpy.min(np_ar,axis=1)))"
   ]
  },
  {
   "cell_type": "markdown",
   "id": "e1072a12",
   "metadata": {},
   "source": [
    "Mean, Var, and Std"
   ]
  },
  {
   "cell_type": "code",
   "execution_count": null,
   "id": "7211a90f",
   "metadata": {},
   "outputs": [],
   "source": [
    "import numpy as np\n",
    "nRow,mCol=map(int,input().split()) #enter: 2 2\n",
    "arr=np.array([input().split() for _ in range(nRow)],int)\n",
    "arrMean=(np.mean(arr,axis=1))\n",
    "arrVar=(np.var(arr,axis=0))\n",
    "arrStd=(np.std(arr,axis=None))\n",
    "rnd=np.around(arrStd,11)\n",
    "print(arrMean,arrVar,rnd,sep='\\n')"
   ]
  },
  {
   "cell_type": "markdown",
   "id": "cb97fcaa",
   "metadata": {},
   "source": [
    "Dot and Cross"
   ]
  },
  {
   "cell_type": "code",
   "execution_count": null,
   "id": "6b392522",
   "metadata": {},
   "outputs": [],
   "source": [
    "import numpy\n",
    "n = int(input())\n",
    "ar1 = []\n",
    "ar2 = []\n",
    "for i in range(n):\n",
    "    tmp = list(map(int,input().split()))\n",
    "    ar1.append(tmp)\n",
    "np_ar1 = numpy.array(ar1)\n",
    "for i in range(n):\n",
    "    tmp = list(map(int,input().split()))\n",
    "    ar2.append(tmp)\n",
    "np_ar2 = numpy.array(ar2)\n",
    "print(numpy.dot(np_ar1,np_ar2))"
   ]
  },
  {
   "cell_type": "markdown",
   "id": "1431d3c7",
   "metadata": {},
   "source": [
    "Inner and Outer"
   ]
  },
  {
   "cell_type": "code",
   "execution_count": null,
   "id": "055030a0",
   "metadata": {},
   "outputs": [],
   "source": [
    "import numpy\n",
    "np_ar1 = numpy.array(list(map(int,input().split())))\n",
    "np_ar2 = numpy.array(list(map(int,input().split())))\n",
    "print(numpy.inner(np_ar1,np_ar2))\n",
    "print(numpy.outer(np_ar1,np_ar2))"
   ]
  },
  {
   "cell_type": "markdown",
   "id": "abd9712b",
   "metadata": {},
   "source": [
    "Polynomials"
   ]
  },
  {
   "cell_type": "code",
   "execution_count": null,
   "id": "2b950107",
   "metadata": {},
   "outputs": [],
   "source": [
    "import numpy\n",
    "p = numpy.array(list(map(float,input().split())),float)\n",
    "x = float(input())\n",
    "print(numpy.polyval(p,x))"
   ]
  },
  {
   "cell_type": "markdown",
   "id": "142db142",
   "metadata": {},
   "source": [
    "Linear Algebra"
   ]
  },
  {
   "cell_type": "code",
   "execution_count": null,
   "id": "bf033657",
   "metadata": {},
   "outputs": [],
   "source": [
    "import numpy as np\n",
    "np.set_printoptions(legacy='1.13')\n",
    "n = int(input())\n",
    "array = np.array([input().split() for _ in range(n)], float)\n",
    "print(np.linalg.det(array))"
   ]
  }
 ],
 "metadata": {
  "kernelspec": {
   "display_name": "Python 3 (ipykernel)",
   "language": "python",
   "name": "python3"
  },
  "language_info": {
   "codemirror_mode": {
    "name": "ipython",
    "version": 3
   },
   "file_extension": ".py",
   "mimetype": "text/x-python",
   "name": "python",
   "nbconvert_exporter": "python",
   "pygments_lexer": "ipython3",
   "version": "3.9.7"
  }
 },
 "nbformat": 4,
 "nbformat_minor": 5
}
